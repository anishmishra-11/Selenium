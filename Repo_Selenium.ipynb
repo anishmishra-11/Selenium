{
 "cells": [
  {
   "cell_type": "code",
   "execution_count": 1,
   "id": "19d00ed5",
   "metadata": {},
   "outputs": [],
   "source": [
    "from selenium import webdriver"
   ]
  },
  {
   "cell_type": "markdown",
   "id": "5c3d6646",
   "metadata": {},
   "source": [
    "## Live Score on Cricbuzz"
   ]
  },
  {
   "cell_type": "code",
   "execution_count": 2,
   "id": "2c55b89b",
   "metadata": {},
   "outputs": [],
   "source": [
    "from selenium.webdriver.support import ui\n",
    "\n",
    "driver = webdriver.Chrome()\n",
    "driver.get(\"https://www.cricbuzz.com/\")\n",
    "\n",
    "wait = ui.WebDriverWait(driver,5)\n",
    "\n",
    "#for list of all current matches\n",
    "#current_match = driver.find_element_by_class_name('cb-hm-mnu-itm').click()\n",
    "\n",
    "#for live score of 1st displayed match\n",
    "live_score = driver.find_element_by_class_name('cb-scr-wll-chvrn').click()"
   ]
  },
  {
   "cell_type": "markdown",
   "id": "4d711135",
   "metadata": {},
   "source": [
    "### Selecting I-Phone On Amazon"
   ]
  },
  {
   "cell_type": "code",
   "execution_count": 3,
   "id": "49368492",
   "metadata": {},
   "outputs": [],
   "source": [
    "from selenium.webdriver.support import ui\n",
    "driver = webdriver.Chrome()"
   ]
  },
  {
   "cell_type": "code",
   "execution_count": 4,
   "id": "86b28877",
   "metadata": {},
   "outputs": [],
   "source": [
    "wait = ui.WebDriverWait(driver, 4)\n",
    "\n",
    "search = driver.find_element_by_name('q')\n",
    "search.send_keys('Amazon')\n",
    "search.submit()\n",
    "\n",
    "wait_1 = ui.WebDriverWait(driver, 5)\n",
    "\n",
    "amz_site = driver.find_element_by_xpath(\"//div[contains(@class, TbwUpd)]/cite\")\n",
    "amz_site.click()\n",
    "\n",
    "wait_2 = ui.WebDriverWait(driver,5)\n",
    "\n",
    "srch_tab = driver.find_element_by_id('twotabsearchtextbox')\n",
    "srch_tab.send_keys('Iphone 12 pro')\n",
    "srch_tab.submit()\n",
    "\n",
    "i = driver.find_element_by_class_name('s-image')\n",
    "i.click()"
   ]
  }
 ],
 "metadata": {
  "kernelspec": {
   "display_name": "Python 3",
   "language": "python",
   "name": "python3"
  },
  "language_info": {
   "codemirror_mode": {
    "name": "ipython",
    "version": 3
   },
   "file_extension": ".py",
   "mimetype": "text/x-python",
   "name": "python",
   "nbconvert_exporter": "python",
   "pygments_lexer": "ipython3",
   "version": "3.8.8"
  }
 },
 "nbformat": 4,
 "nbformat_minor": 5
}
